{
 "cells": [
  {
   "cell_type": "code",
   "execution_count": 1,
   "metadata": {},
   "outputs": [],
   "source": [
    "from tqdm import tqdm"
   ]
  },
  {
   "cell_type": "code",
   "execution_count": 2,
   "metadata": {},
   "outputs": [
    {
     "name": "stdout",
     "output_type": "stream",
     "text": [
      "499500\n"
     ]
    }
   ],
   "source": [
    "sum = 0\n",
    "for i in range(0, 1000):\n",
    "    sum += i\n",
    "print(sum)"
   ]
  },
  {
   "cell_type": "code",
   "execution_count": 3,
   "metadata": {},
   "outputs": [
    {
     "name": "stderr",
     "output_type": "stream",
     "text": [
      "100%|██████████| 10000000/10000000 [00:02<00:00, 4288677.64it/s]"
     ]
    },
    {
     "name": "stdout",
     "output_type": "stream",
     "text": [
      "49999995000000\n"
     ]
    },
    {
     "name": "stderr",
     "output_type": "stream",
     "text": [
      "\n"
     ]
    }
   ],
   "source": [
    "sum = 0\n",
    "for i in tqdm(range(0, 10000000)):\n",
    "    sum += i\n",
    "print(sum)"
   ]
  },
  {
   "cell_type": "code",
   "execution_count": 9,
   "metadata": {},
   "outputs": [
    {
     "name": "stdout",
     "output_type": "stream",
     "text": [
      "<class 'list'>\n",
      "3662\n",
      "['Mild' 'Moderate' 'No_DR' 'Proliferate_DR' 'Severe']\n"
     ]
    },
    {
     "data": {
      "text/html": [
       "<div>\n",
       "<style scoped>\n",
       "    .dataframe tbody tr th:only-of-type {\n",
       "        vertical-align: middle;\n",
       "    }\n",
       "\n",
       "    .dataframe tbody tr th {\n",
       "        vertical-align: top;\n",
       "    }\n",
       "\n",
       "    .dataframe thead th {\n",
       "        text-align: right;\n",
       "    }\n",
       "</style>\n",
       "<table border=\"1\" class=\"dataframe\">\n",
       "  <thead>\n",
       "    <tr style=\"text-align: right;\">\n",
       "      <th></th>\n",
       "      <th>filepath</th>\n",
       "      <th>type</th>\n",
       "      <th>extension</th>\n",
       "    </tr>\n",
       "  </thead>\n",
       "  <tbody>\n",
       "    <tr>\n",
       "      <td>0</td>\n",
       "      <td>diabetic-retinopathy-224x224-gaussian-filtered...</td>\n",
       "      <td>Moderate</td>\n",
       "      <td>png</td>\n",
       "    </tr>\n",
       "    <tr>\n",
       "      <td>1</td>\n",
       "      <td>diabetic-retinopathy-224x224-gaussian-filtered...</td>\n",
       "      <td>Moderate</td>\n",
       "      <td>png</td>\n",
       "    </tr>\n",
       "    <tr>\n",
       "      <td>2</td>\n",
       "      <td>diabetic-retinopathy-224x224-gaussian-filtered...</td>\n",
       "      <td>Moderate</td>\n",
       "      <td>png</td>\n",
       "    </tr>\n",
       "    <tr>\n",
       "      <td>3</td>\n",
       "      <td>diabetic-retinopathy-224x224-gaussian-filtered...</td>\n",
       "      <td>Moderate</td>\n",
       "      <td>png</td>\n",
       "    </tr>\n",
       "    <tr>\n",
       "      <td>4</td>\n",
       "      <td>diabetic-retinopathy-224x224-gaussian-filtered...</td>\n",
       "      <td>Moderate</td>\n",
       "      <td>png</td>\n",
       "    </tr>\n",
       "    <tr>\n",
       "      <td>...</td>\n",
       "      <td>...</td>\n",
       "      <td>...</td>\n",
       "      <td>...</td>\n",
       "    </tr>\n",
       "    <tr>\n",
       "      <td>3657</td>\n",
       "      <td>diabetic-retinopathy-224x224-gaussian-filtered...</td>\n",
       "      <td>Severe</td>\n",
       "      <td>png</td>\n",
       "    </tr>\n",
       "    <tr>\n",
       "      <td>3658</td>\n",
       "      <td>diabetic-retinopathy-224x224-gaussian-filtered...</td>\n",
       "      <td>Severe</td>\n",
       "      <td>png</td>\n",
       "    </tr>\n",
       "    <tr>\n",
       "      <td>3659</td>\n",
       "      <td>diabetic-retinopathy-224x224-gaussian-filtered...</td>\n",
       "      <td>Severe</td>\n",
       "      <td>png</td>\n",
       "    </tr>\n",
       "    <tr>\n",
       "      <td>3660</td>\n",
       "      <td>diabetic-retinopathy-224x224-gaussian-filtered...</td>\n",
       "      <td>Severe</td>\n",
       "      <td>png</td>\n",
       "    </tr>\n",
       "    <tr>\n",
       "      <td>3661</td>\n",
       "      <td>diabetic-retinopathy-224x224-gaussian-filtered...</td>\n",
       "      <td>Severe</td>\n",
       "      <td>png</td>\n",
       "    </tr>\n",
       "  </tbody>\n",
       "</table>\n",
       "<p>3662 rows × 3 columns</p>\n",
       "</div>"
      ],
      "text/plain": [
       "                                               filepath      type extension\n",
       "0     diabetic-retinopathy-224x224-gaussian-filtered...  Moderate       png\n",
       "1     diabetic-retinopathy-224x224-gaussian-filtered...  Moderate       png\n",
       "2     diabetic-retinopathy-224x224-gaussian-filtered...  Moderate       png\n",
       "3     diabetic-retinopathy-224x224-gaussian-filtered...  Moderate       png\n",
       "4     diabetic-retinopathy-224x224-gaussian-filtered...  Moderate       png\n",
       "...                                                 ...       ...       ...\n",
       "3657  diabetic-retinopathy-224x224-gaussian-filtered...    Severe       png\n",
       "3658  diabetic-retinopathy-224x224-gaussian-filtered...    Severe       png\n",
       "3659  diabetic-retinopathy-224x224-gaussian-filtered...    Severe       png\n",
       "3660  diabetic-retinopathy-224x224-gaussian-filtered...    Severe       png\n",
       "3661  diabetic-retinopathy-224x224-gaussian-filtered...    Severe       png\n",
       "\n",
       "[3662 rows x 3 columns]"
      ]
     },
     "execution_count": 9,
     "metadata": {},
     "output_type": "execute_result"
    }
   ],
   "source": [
    "import numpy as np\n",
    "import pandas as pd\n",
    "from glob import glob\n",
    "\n",
    "all_png_list = glob('*/*/gaussian_filtered_images/*/*.png')\n",
    "print(type(all_png_list))\n",
    "print(len(all_png_list))\n",
    "\n",
    "type_list = [p.split('/')[3] for p in all_png_list]\n",
    "print(np.unique(type_list))\n",
    "\n",
    "extension_list = [p.split('.')[-1] for p in all_png_list]\n",
    "\n",
    "df = pd.DataFrame({'filepath': all_png_list, 'type': type_list, 'extension': extension_list})\n",
    "df"
   ]
  },
  {
   "cell_type": "code",
   "execution_count": 23,
   "metadata": {},
   "outputs": [
    {
     "name": "stderr",
     "output_type": "stream",
     "text": [
      "100%|██████████| 3662/3662 [00:00<00:00, 16225.48it/s]\n"
     ]
    }
   ],
   "source": [
    "for idx, row in tqdm(df.iterrows(), total=len(df)):\n",
    "    pass"
   ]
  },
  {
   "cell_type": "code",
   "execution_count": 25,
   "metadata": {},
   "outputs": [
    {
     "name": "stderr",
     "output_type": "stream",
     "text": [
      " 90%|█████████ | 3311/3662 [00:00<00:00, 16518.14it/s]"
     ]
    },
    {
     "name": "stdout",
     "output_type": "stream",
     "text": [
      "0\n",
      "diabetic-retinopathy-224x224-gaussian-filtered/gaussian_filtered_images/gaussian_filtered_images/Moderate/a15590a7d774.png\n",
      "Moderate\n",
      "png\n",
      "<class 'int'>\n",
      "<class 'pandas.core.series.Series'>\n"
     ]
    },
    {
     "name": "stderr",
     "output_type": "stream",
     "text": [
      "100%|██████████| 3662/3662 [00:00<00:00, 16154.79it/s]\n"
     ]
    }
   ],
   "source": [
    "for idx, row in tqdm(df.iterrows(), total=len(df)):\n",
    "    if idx == 0:\n",
    "        print(f\"{idx}\\n{row['filepath']}\\n{row['type']}\\n\\\n",
    "{row['extension']}\\n{type(idx)}\\n{type(row)}\")\n",
    "    else:\n",
    "        pass"
   ]
  },
  {
   "cell_type": "code",
   "execution_count": null,
   "metadata": {
    "jupyter": {
     "source_hidden": true
    }
   },
   "outputs": [],
   "source": []
  },
  {
   "cell_type": "code",
   "execution_count": 29,
   "metadata": {},
   "outputs": [
    {
     "name": "stderr",
     "output_type": "stream",
     "text": [
      "100%|██████████| 10/10 [00:00<00:00, 295.10it/s]\n"
     ]
    }
   ],
   "source": [
    "import cv2\n",
    "\n",
    "save_base_path = 'diabetic-retinopathy-224x224-gaussian-filtered/gaussian_filtered_images/gaussian_filtered_nparrays/'\n",
    "for p in tqdm(glob('diabetic-retinopathy-224x224-gaussian-filtered/gaussian_filtered_images/gaussian_filtered_images/*/*.png')[:10]):\n",
    "    \n",
    "    im = cv2.imread(p)\n",
    "    file_name = p.split('/')[-1].split('.png')[0]\n",
    "    save_path = save_base_path + file_name\n",
    "    np.save(save_path, im)"
   ]
  }
 ],
 "metadata": {
  "kernelspec": {
   "display_name": "Python 3",
   "language": "python",
   "name": "python3"
  },
  "language_info": {
   "codemirror_mode": {
    "name": "ipython",
    "version": 3
   },
   "file_extension": ".py",
   "mimetype": "text/x-python",
   "name": "python",
   "nbconvert_exporter": "python",
   "pygments_lexer": "ipython3",
   "version": "3.7.4"
  }
 },
 "nbformat": 4,
 "nbformat_minor": 4
}
