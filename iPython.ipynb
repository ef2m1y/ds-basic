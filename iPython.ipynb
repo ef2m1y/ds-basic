{
 "cells": [
  {
   "cell_type": "code",
   "execution_count": 1,
   "metadata": {},
   "outputs": [],
   "source": [
    "# def get_filename(path):\n",
    "#     return path.split('/')[-1]\n",
    "\n",
    "# get_filename('/home/user/Desktop/image.jpg')"
   ]
  },
  {
   "cell_type": "code",
   "execution_count": 2,
   "metadata": {},
   "outputs": [
    {
     "data": {
      "text/plain": [
       "'image.jpg'"
      ]
     },
     "execution_count": 2,
     "metadata": {},
     "output_type": "execute_result"
    }
   ],
   "source": [
    "x = lambda path: path.split('/')[-1]\n",
    "x('/home/user/Desktop/image.jpg')"
   ]
  },
  {
   "cell_type": "code",
   "execution_count": 3,
   "metadata": {},
   "outputs": [],
   "source": [
    "def print_list(*args):\n",
    "    for element in args:\n",
    "        print(element)"
   ]
  },
  {
   "cell_type": "code",
   "execution_count": 4,
   "metadata": {},
   "outputs": [
    {
     "name": "stdout",
     "output_type": "stream",
     "text": [
      "C\n",
      "Python\n",
      "Rust\n"
     ]
    }
   ],
   "source": [
    "print_list(\"C\", \"Python\", \"Rust\")"
   ]
  },
  {
   "cell_type": "code",
   "execution_count": 5,
   "metadata": {},
   "outputs": [],
   "source": [
    "def print_dict(**kwargs):\n",
    "    param1 = str(kwargs.get('param1'))\n",
    "    param2 = str(kwargs.get('param2', 'default_value'))\n",
    "    param3 = str(kwargs.get('param3'))\n",
    "    print('param1: {}'.format(param1))\n",
    "    print('param2: {}'.format(param2))\n",
    "    print('param3: {}'.format(param3))"
   ]
  },
  {
   "cell_type": "code",
   "execution_count": 8,
   "metadata": {},
   "outputs": [
    {
     "name": "stdout",
     "output_type": "stream",
     "text": [
      "param1: param1_value\n",
      "param2: default_value\n",
      "param3: None\n"
     ]
    }
   ],
   "source": [
    "print_dict(param1='param1_value')"
   ]
  }
 ],
 "metadata": {
  "kernelspec": {
   "display_name": "Python 3",
   "language": "python",
   "name": "python3"
  },
  "language_info": {
   "codemirror_mode": {
    "name": "ipython",
    "version": 3
   },
   "file_extension": ".py",
   "mimetype": "text/x-python",
   "name": "python",
   "nbconvert_exporter": "python",
   "pygments_lexer": "ipython3",
   "version": "3.7.4"
  }
 },
 "nbformat": 4,
 "nbformat_minor": 4
}
